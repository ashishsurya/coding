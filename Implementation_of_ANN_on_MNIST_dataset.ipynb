{
  "nbformat": 4,
  "nbformat_minor": 0,
  "metadata": {
    "colab": {
      "name": "Implementation of ANN on MNIST dataset.ipynb",
      "provenance": [],
      "collapsed_sections": [],
      "authorship_tag": "ABX9TyNXftjeRrsgDJMOzy3Lf8Py",
      "include_colab_link": true
    },
    "kernelspec": {
      "name": "python3",
      "display_name": "Python 3"
    },
    "language_info": {
      "name": "python"
    }
  },
  "cells": [
    {
      "cell_type": "markdown",
      "metadata": {
        "id": "view-in-github",
        "colab_type": "text"
      },
      "source": [
        "<a href=\"https://colab.research.google.com/github/ashishsurya126/coding/blob/master/Implementation_of_ANN_on_MNIST_dataset.ipynb\" target=\"_parent\"><img src=\"https://colab.research.google.com/assets/colab-badge.svg\" alt=\"Open In Colab\"/></a>"
      ]
    },
    {
      "cell_type": "markdown",
      "metadata": {
        "id": "cW9IepvST6x1"
      },
      "source": [
        "# Surya Ashish\n",
        "# 2019BCS0080"
      ]
    },
    {
      "cell_type": "code",
      "metadata": {
        "id": "Tdt0jhawKAOB"
      },
      "source": [
        "import pandas as pd\n",
        "import matplotlib.pyplot as plt\n",
        "from sklearn import datasets,svm,metrics\n",
        "from sklearn.model_selection import train_test_split"
      ],
      "execution_count": null,
      "outputs": []
    },
    {
      "cell_type": "code",
      "metadata": {
        "colab": {
          "base_uri": "https://localhost:8080/"
        },
        "id": "w_Q9XrJ8KjrG",
        "outputId": "917ca764-7e0f-4652-ee69-15fd2a7db0bb"
      },
      "source": [
        "digits = datasets.load_digits()\n",
        "\n",
        "digits.images.shape"
      ],
      "execution_count": null,
      "outputs": [
        {
          "output_type": "execute_result",
          "data": {
            "text/plain": [
              "(1797, 8, 8)"
            ]
          },
          "metadata": {},
          "execution_count": 80
        }
      ]
    },
    {
      "cell_type": "code",
      "metadata": {
        "colab": {
          "base_uri": "https://localhost:8080/",
          "height": 168
        },
        "id": "lwqDoZfyKrqJ",
        "outputId": "616e88a9-ce03-4194-e750-a0f729398485"
      },
      "source": [
        "fig, axes = plt.subplots(1,4, figsize=(10,3))\n",
        "\n",
        "for ax,img,label in zip(axes, digits.images, digits.target):\n",
        "  ax.set_axis_off()\n",
        "  ax.imshow(img, cmap=\"gray\", interpolation=\"nearest\")\n",
        "  ax.set_title(f\"Training : {label}\")"
      ],
      "execution_count": null,
      "outputs": [
        {
          "output_type": "display_data",
          "data": {
            "image/png": "[encoded data removed]",
            "text/plain": [
              "<Figure size 720x216 with 4 Axes>"
            ]
          },
          "metadata": {
            "needs_background": "light"
          }
        }
      ]
    },
    {
      "cell_type": "code",
      "metadata": {
        "id": "bcSFdUqwLM1Z"
      },
      "source": [
        "n_samples = len(digits.images)\n",
        "data = digits.images.reshape((n_samples, -1))\n",
        "\n",
        "\n",
        "clf = svm.SVC(gamma=0.001)\n",
        "\n",
        "x_train,x_test,y_train,y_test = train_test_split(\n",
        "    data, digits.target, test_size=0.5, shuffle=False\n",
        ")\n",
        "\n",
        "clf.fit(x_train,y_train)\n",
        "\n",
        "predicted = clf.predict(x_test)"
      ],
      "execution_count": null,
      "outputs": []
    },
    {
      "cell_type": "code",
      "metadata": {
        "colab": {
          "base_uri": "https://localhost:8080/",
          "height": 168
        },
        "id": "0VH3TKwhNWlx",
        "outputId": "754d4075-fe5f-4707-bfdb-7cbd975c6457"
      },
      "source": [
        "_, axes = plt.subplots(nrows=1, ncols=4, figsize=(10, 3))\n",
        "for ax, image, prediction in zip(axes, x_test, predicted):\n",
        " ax.set_axis_off()\n",
        " image = image.reshape(8, 8)\n",
        " ax.imshow(image, cmap=plt.get_cmap('GnBu'), interpolation=\"nearest\")\n",
        " ax.set_title(f\"Prediction: {prediction}\")"
      ],
      "execution_count": null,
      "outputs": [
        {
          "output_type": "display_data",
          "data": {
            "image/png": "[encoded data removed]",
            "text/plain": [
              "<Figure size 720x216 with 4 Axes>"
            ]
          },
          "metadata": {
            "needs_background": "light"
          }
        }
      ]
    },
    {
      "cell_type": "code",
      "metadata": {
        "colab": {
          "base_uri": "https://localhost:8080/"
        },
        "id": "_YvQnqBRNedA",
        "outputId": "cec08d38-ac3f-4d75-cb65-b07d56a8aaa4"
      },
      "source": [
        "print(\n",
        " f\"Classification report for classifier {clf}:\\n\"\n",
        " f\"{metrics.classification_report(y_test, predicted)}\\n\"\n",
        ")"
      ],
      "execution_count": null,
      "outputs": [
        {
          "output_type": "stream",
          "name": "stdout",
          "text": [
            "Classification report for classifier SVC(C=1.0, break_ties=False, cache_size=200, class_weight=None, coef0=0.0,\n",
            "    decision_function_shape='ovr', degree=3, gamma=0.001, kernel='rbf',\n",
            "    max_iter=-1, probability=False, random_state=None, shrinking=True,\n",
            "    tol=0.001, verbose=False):\n",
            "              precision    recall  f1-score   support\n",
            "\n",
            "           0       1.00      0.99      0.99        88\n",
            "           1       0.99      0.97      0.98        91\n",
            "           2       0.99      0.99      0.99        86\n",
            "           3       0.98      0.87      0.92        91\n",
            "           4       0.99      0.96      0.97        92\n",
            "           5       0.95      0.97      0.96        91\n",
            "           6       0.99      0.99      0.99        91\n",
            "           7       0.96      0.99      0.97        89\n",
            "           8       0.94      1.00      0.97        88\n",
            "           9       0.93      0.98      0.95        92\n",
            "\n",
            "    accuracy                           0.97       899\n",
            "   macro avg       0.97      0.97      0.97       899\n",
            "weighted avg       0.97      0.97      0.97       899\n",
            "\n",
            "\n"
          ]
        }
      ]
    },
    {
      "cell_type": "code",
      "metadata": {
        "colab": {
          "base_uri": "https://localhost:8080/"
        },
        "id": "Mt9HCb2COpPE",
        "outputId": "78465d9d-8546-4a43-bf62-d8da68810823"
      },
      "source": [
        "cm = metrics.confusion_matrix(y_test, predicted, labels=clf.classes_)\n",
        "# disp = metrics.ConfusionMatrixDisplay(confusion_matrix=cm, display_labels=clf.class)\n",
        "# # print(f\"Confusion matrix:\\n{disp.confusion_matrix}\")\n",
        "# disp.plot()\n",
        "# plt.title(\"confusion Matrix\")\n",
        "# plt.show()\n",
        "\n",
        "print(cm)"
      ],
      "execution_count": null,
      "outputs": [
        {
          "output_type": "stream",
          "name": "stdout",
          "text": [
            "[[87  0  0  0  1  0  0  0  0  0]\n",
            " [ 0 88  1  0  0  0  0  0  1  1]\n",
            " [ 0  0 85  1  0  0  0  0  0  0]\n",
            " [ 0  0  0 79  0  3  0  4  5  0]\n",
            " [ 0  0  0  0 88  0  0  0  0  4]\n",
            " [ 0  0  0  0  0 88  1  0  0  2]\n",
            " [ 0  1  0  0  0  0 90  0  0  0]\n",
            " [ 0  0  0  0  0  1  0 88  0  0]\n",
            " [ 0  0  0  0  0  0  0  0 88  0]\n",
            " [ 0  0  0  1  0  1  0  0  0 90]]\n"
          ]
        }
      ]
    }
  ]
}